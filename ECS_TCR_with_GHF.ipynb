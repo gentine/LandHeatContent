{
 "cells": [
  {
   "cell_type": "markdown",
   "metadata": {},
   "source": [
    "this function computes the equilibrium climate sensitivity based on the estimates from Otto Nature Geo (2013) and our new ground heat flux estimates "
   ]
  },
  {
   "cell_type": "code",
   "execution_count": 1,
   "metadata": {},
   "outputs": [],
   "source": [
    "import numpy as np\n",
    "import matplotlib.pyplot as plt"
   ]
  },
  {
   "cell_type": "code",
   "execution_count": 2,
   "metadata": {},
   "outputs": [],
   "source": [
    "N_MCMC  = 1000000\n",
    "area_land  = 148300000; # km^2 Coble et al., 1987\n",
    "area_Earth = 510064472\n",
    "mu_T, Delta_T = 0.75,0.2\n",
    "sigma_T = Delta_T/2\n",
    "mu_OHS, Delta_OHS = 0.65,0.27\n",
    "sigma_OHS = Delta_OHS/2\n",
    "mu_RAD, Delta_RAD = 1.95,0.58\n",
    "sigma_RAD = Delta_RAD/2\n",
    "mu_RAD_CO2x, Delta_RAD_CO2x = 3.44,0.34\n",
    "sigma_RAD_CO2x = Delta_RAD_CO2x/2\n",
    "mu_GHS, Delta_GHS = 0.24,(0.08+0.16)/2 # 0.18*2\n",
    "sigma_GHS = Delta_GHS/2\n",
    "DeltaT   = np.random.normal(mu_T ,sigma_T ,N_MCMC)\n",
    "OHS = np.random.normal(mu_OHS ,sigma_OHS ,N_MCMC)\n",
    "RAD = np.random.normal(mu_RAD ,sigma_RAD ,N_MCMC)\n",
    "RAD_CO2x = np.random.normal(mu_RAD_CO2x ,sigma_RAD_CO2x ,N_MCMC)\n",
    "GHS = area_land/area_Earth*np.random.normal(mu_GHS ,sigma_GHS ,N_MCMC) # only applies over ~1/3rd of the globe"
   ]
  },
  {
   "cell_type": "markdown",
   "metadata": {},
   "source": [
    "check distribution"
   ]
  },
  {
   "cell_type": "markdown",
   "metadata": {},
   "source": [
    "now estimate lambda and its spread"
   ]
  },
  {
   "cell_type": "code",
   "execution_count": 3,
   "metadata": {},
   "outputs": [],
   "source": [
    "lambda_est = -(OHS-RAD)/DeltaT"
   ]
  },
  {
   "cell_type": "code",
   "execution_count": 4,
   "metadata": {},
   "outputs": [
    {
     "data": {
      "image/png": "[encoded data removed]",
      "text/plain": [
       "<Figure size 432x288 with 1 Axes>"
      ]
     },
     "metadata": {
      "needs_background": "light"
     },
     "output_type": "display_data"
    }
   ],
   "source": [
    "count, bins, ignored = plt.hist(lambda_est, 100, density=True)\n",
    "#plt.plot(bins, 1/(sigma_OHS * np.sqrt(2 * np.pi)) *\n",
    "#                   np.exp( - (bins - mu_OHS)**2 / (2 * sigma_OHS**2) ),\n",
    "#                   linewidth=2, color='r')\n",
    "plt.show()"
   ]
  },
  {
   "cell_type": "markdown",
   "metadata": {},
   "source": [
    "now estimate TCR doubling CO2"
   ]
  },
  {
   "cell_type": "code",
   "execution_count": 5,
   "metadata": {},
   "outputs": [],
   "source": [
    "indices_good = ~((OHS>RAD-0.1) | (OHS>RAD_CO2x-0.1) | (RAD>RAD_CO2x-0.3) | (OHS+GHS>RAD-0.1))\n",
    "DeltaT_TCR = DeltaT[indices_good] * RAD_CO2x[indices_good] / ( RAD[indices_good] )\n",
    "DeltaT_ECS = DeltaT[indices_good] * RAD_CO2x[indices_good] / ( RAD[indices_good] - OHS[indices_good])\n",
    "DeltaT_ECS_with_GHF = DeltaT[indices_good] * RAD_CO2x[indices_good] / ( RAD[indices_good] - OHS[indices_good] - GHS[indices_good])"
   ]
  },
  {
   "cell_type": "code",
   "execution_count": 6,
   "metadata": {},
   "outputs": [
    {
     "data": {
      "image/png": "[encoded data removed]",
      "text/plain": [
       "<Figure size 432x288 with 1 Axes>"
      ]
     },
     "metadata": {
      "needs_background": "light"
     },
     "output_type": "display_data"
    }
   ],
   "source": [
    "count, bins, ignored = plt.hist(DeltaT_TCR, 100, density=True)"
   ]
  },
  {
   "cell_type": "code",
   "execution_count": 7,
   "metadata": {},
   "outputs": [
    {
     "data": {
      "text/plain": [
       "(1.3545411341526896,\n",
       " 0.2913272059544135,\n",
       " 0.38170190208336513,\n",
       " 4.376450277829174)"
      ]
     },
     "execution_count": 7,
     "metadata": {},
     "output_type": "execute_result"
    }
   ],
   "source": [
    "np.mean(DeltaT_TCR),np.std(DeltaT_TCR), np.min(DeltaT_TCR),np.max(DeltaT_TCR)"
   ]
  },
  {
   "cell_type": "code",
   "execution_count": 8,
   "metadata": {},
   "outputs": [
    {
     "data": {
      "text/plain": [
       "(0.9407891225749152,\n",
       " 1.0154510821290672,\n",
       " 1.8778815726365852,\n",
       " 1.7326820139309325)"
      ]
     },
     "execution_count": 8,
     "metadata": {},
     "output_type": "execute_result"
    }
   ],
   "source": [
    "np.percentile(DeltaT_TCR, 5), np.percentile(DeltaT_TCR, 10),np.percentile(DeltaT_TCR, 95), np.percentile(DeltaT_TCR, 90) "
   ]
  },
  {
   "cell_type": "code",
   "execution_count": 9,
   "metadata": {},
   "outputs": [
    {
     "data": {
      "text/plain": [
       "(2.135333651731879, 0.7652167067887492, 0.5350272726405247, 19.38074173813852)"
      ]
     },
     "execution_count": 9,
     "metadata": {},
     "output_type": "execute_result"
    }
   ],
   "source": [
    "np.mean(DeltaT_ECS),np.std(DeltaT_ECS), np.min(DeltaT_ECS),np.max(DeltaT_ECS)"
   ]
  },
  {
   "cell_type": "code",
   "execution_count": 10,
   "metadata": {},
   "outputs": [
    {
     "data": {
      "text/plain": [
       "(1.290183164254417, 1.4130173419545313, 3.45603782381162, 2.9948177138278815)"
      ]
     },
     "execution_count": 10,
     "metadata": {},
     "output_type": "execute_result"
    }
   ],
   "source": [
    "np.percentile(DeltaT_ECS, 5), np.percentile(DeltaT_ECS, 10),np.percentile(DeltaT_ECS, 95), np.percentile(DeltaT_ECS, 90)"
   ]
  },
  {
   "cell_type": "code",
   "execution_count": 11,
   "metadata": {},
   "outputs": [
    {
     "data": {
      "text/plain": [
       "(2.2837636367419236,\n",
       " 0.9214575648860129,\n",
       " 0.5350272726405247,\n",
       " 33.691244870596286)"
      ]
     },
     "execution_count": 11,
     "metadata": {},
     "output_type": "execute_result"
    }
   ],
   "source": [
    "np.mean(DeltaT_ECS_with_GHF),np.std(DeltaT_ECS_with_GHF), np.min(DeltaT_ECS),np.max(DeltaT_ECS_with_GHF)"
   ]
  },
  {
   "cell_type": "code",
   "execution_count": 12,
   "metadata": {},
   "outputs": [
    {
     "data": {
      "text/plain": [
       "(1.345049001654376, 1.475821446691046, 3.7896632506067176, 3.243759995377598)"
      ]
     },
     "execution_count": 12,
     "metadata": {},
     "output_type": "execute_result"
    }
   ],
   "source": [
    "np.percentile(DeltaT_ECS_with_GHF, 5), np.percentile(DeltaT_ECS_with_GHF, 10),np.percentile(DeltaT_ECS_with_GHF, 95), np.percentile(DeltaT_ECS_with_GHF, 90)"
   ]
  },
  {
   "cell_type": "code",
   "execution_count": null,
   "metadata": {},
   "outputs": [],
   "source": []
  },
  {
   "cell_type": "code",
   "execution_count": null,
   "metadata": {},
   "outputs": [],
   "source": []
  },
  {
   "cell_type": "code",
   "execution_count": null,
   "metadata": {},
   "outputs": [],
   "source": []
  }
 ],
 "metadata": {
  "kernelspec": {
   "display_name": "Python 3",
   "language": "python",
   "name": "python3"
  },
  "language_info": {
   "codemirror_mode": {
    "name": "ipython",
    "version": 3
   },
   "file_extension": ".py",
   "mimetype": "text/x-python",
   "name": "python",
   "nbconvert_exporter": "python",
   "pygments_lexer": "ipython3",
   "version": "3.7.1"
  }
 },
 "nbformat": 4,
 "nbformat_minor": 2
}
